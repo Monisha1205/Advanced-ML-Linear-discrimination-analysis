{
 "cells": [
  {
   "cell_type": "code",
   "execution_count": 1,
   "id": "ea3a4635",
   "metadata": {},
   "outputs": [],
   "source": [
    "import numpy as np\n",
    "import matplotlib.pyplot as plt\n",
    "import pandas as pd"
   ]
  },
  {
   "cell_type": "code",
   "execution_count": 2,
   "id": "554c8e02",
   "metadata": {},
   "outputs": [],
   "source": [
    "def split_scalar(indep_X,dep_y):\n",
    "    from sklearn.model_selection import train_test_split\n",
    "    X_train, X_test, y_train, y_test = train_test_split(indep_X,dep_y, test_size = 0.2, random_state = 0)\n",
    "    from sklearn.preprocessing import StandardScaler\n",
    "    sc = StandardScaler()\n",
    "    X_train = sc.fit_transform(X_train)\n",
    "    X_test = sc.transform(X_test)\n",
    "    return X_train, X_test, y_train, y_test"
   ]
  },
  {
   "cell_type": "code",
   "execution_count": 3,
   "id": "83b829ad",
   "metadata": {},
   "outputs": [],
   "source": [
    "def pca(indep_X,n):\n",
    "    from sklearn.decomposition import PCA\n",
    "    pca = PCA(n_components = n)\n",
    "    X_train = pca.fit_transform(indep_X)\n",
    "    explained_variance = pca.explained_variance_ratio_\n",
    "    return X_train\n"
   ]
  },
  {
   "cell_type": "code",
   "execution_count": 8,
   "id": "22e1c0ab",
   "metadata": {},
   "outputs": [],
   "source": [
    "def cm_prediction(classifier,X_test):\n",
    "    y_pred=classifier.predict(X_test)\n",
    "    from sklearn.metrics import confusion_matrix\n",
    "    cm=confusion_matrix(y_test,y_pred)\n",
    "    from sklearn.metrics import accuracy_score\n",
    "    from sklearn.metrics import classification_report\n",
    "    Accuracy=accuracy_score(y_test,y_pred)\n",
    "    report=classification_report(y_test,y_pred)\n",
    "    return classifier,Accuracy,report,X_test,y_test,cm\n",
    "\n",
    "# classification logistic regression \n",
    "\n",
    "def logistic(X_train,y_train,X_test):\n",
    "    from sklearn.linear_model import LogisticRegression\n",
    "    classifier=LogisticRegression(random_state=0)\n",
    "    classifier.fit(X_train,y_train)\n",
    "    classifier,Accuracy,report,X_train,y_test,cm=cm_prediction(classifier,X_test)\n",
    "    return classifier,Accuracy,report,X_test,y_test,cm\n",
    "\n",
    "# Support vector machine - linear\n",
    "\n",
    "def svm_linear(X_train,y_train,X_test):\n",
    "    from sklearn.svm import SVC\n",
    "    classifier=SVC(kernel='linear',random_state=0)\n",
    "    classifier.fit(X_train,y_train)\n",
    "    classifier,Accuracy,report,X_train,y_test,cm=cm_prediction(classifier,X_test)\n",
    "    return classifier,Accuracy,report,X_train,y_test,cm\n",
    "\n",
    "# Support vector machine - RBF\n",
    "\n",
    "def svm_NL(X_train,y_train,X_test):\n",
    "    from sklearn.svm import SVC\n",
    "    classifier = SVC(kernel='rbf',random_state=0)\n",
    "    classifier.fit(X_train,y_train)\n",
    "    classifier,Accuracy,report,X_train,y_test,cm=cm_prediction(classifier,X_test)\n",
    "    return classifier,Accuracy,report,X_train,y_test,cm\n",
    "\n",
    "# naive bayes - Gaussian naive bayes\n",
    "\n",
    "def Navie(X_train,y_train,X_test):\n",
    "    from sklearn.naive_bayes import GaussianNB\n",
    "    classifier=GaussianNB()\n",
    "    classifier.fit(X_train,y_train)\n",
    "    classifier,Accuracy,report,X_train,y_test,cm=cm_prediction(classifier,X_test)\n",
    "    return classifier,Accuracy,report,X_train,y_test,cm\n",
    "\n",
    "# K nearest neighbar \n",
    "\n",
    "def knn(X_train,y_train,X_test):\n",
    "    from sklearn.neighbors import KNeighborsClassifier\n",
    "    classifier=KNeighborsClassifier(n_neighbors=5,metric='minkowski',p=2)\n",
    "    classifier.fit(X_train,y_train)\n",
    "    classifier,Accuracy,report,X_train,y_test,cm=cm_prediction(classifier,X_test)\n",
    "    return classifier,Accuracy,report,X_train,y_test,cm\n",
    "\n",
    "# Decision tree\n",
    "\n",
    "def Decision(X_train,y_train,X_test):\n",
    "    from sklearn.tree import DecisionTreeClassifier\n",
    "    classifier=DecisionTreeClassifier(criterion='entropy',random_state=0)\n",
    "    classifier.fit(X_train,y_train)\n",
    "    classifier,Accuracy,report,X_train,y_test,cm=cm_prediction(classifier,X_test)\n",
    "    return classifier,Accuracy,report,X_train,y_test,cm\n",
    "\n",
    "# Random Forest classifier\n",
    "\n",
    "def random(X_train,y_train,X_test):\n",
    "    from sklearn.ensemble import RandomForestClassifier\n",
    "    classifier=RandomForestClassifier(n_estimators=10,criterion='entropy',random_state=0)\n",
    "    classifier.fit(X_train,y_train)\n",
    "    classifier,Accuracy,report,X_train,y_test,cm=cm_prediction(classifier,X_test)\n",
    "    return classifier,Accuracy,report,X_train,y_test,cm\n",
    "\n",
    "def pca_Classification(acclog,accsvml,accsvmnl,accknn,accnav,accdes,accrf):\n",
    "    dataframe=pd.DataFrame(index=[\"PCA\"],columns=['Logistic','SVMl','SVMnl','KNN','Navie','Decision','Random'])\n",
    "    for number,idex in enumerate(dataframe.index):\n",
    "        dataframe['Logistic'][idex]=acclog[number]\n",
    "        dataframe['SVMl'][idex]=accsvml[number]\n",
    "        dataframe['SVMnl'][idex]=accsvmnl[number]\n",
    "        dataframe['KNN'][idex]=accknn[number]\n",
    "        dataframe['Navie'][idex]=accnav[number]\n",
    "        dataframe['Decision'][idex]=accdes[number]\n",
    "        dataframe['Random'][idex]=accrf[number]\n",
    "    return dataframe"
   ]
  },
  {
   "cell_type": "code",
   "execution_count": 9,
   "id": "8ca23850",
   "metadata": {},
   "outputs": [],
   "source": [
    "dataset = pd.read_csv('Wine.csv')\n",
    "indep_X= dataset.iloc[:, 0:13].values\n",
    "dep_y= dataset.iloc[:, 13].values\n"
   ]
  },
  {
   "cell_type": "code",
   "execution_count": 10,
   "id": "480feaaa",
   "metadata": {},
   "outputs": [
    {
     "data": {
      "text/plain": [
       "array([[1.423e+01, 1.710e+00, 2.430e+00, ..., 1.040e+00, 3.920e+00,\n",
       "        1.065e+03],\n",
       "       [1.320e+01, 1.780e+00, 2.140e+00, ..., 1.050e+00, 3.400e+00,\n",
       "        1.050e+03],\n",
       "       [1.316e+01, 2.360e+00, 2.670e+00, ..., 1.030e+00, 3.170e+00,\n",
       "        1.185e+03],\n",
       "       ...,\n",
       "       [1.327e+01, 4.280e+00, 2.260e+00, ..., 5.900e-01, 1.560e+00,\n",
       "        8.350e+02],\n",
       "       [1.317e+01, 2.590e+00, 2.370e+00, ..., 6.000e-01, 1.620e+00,\n",
       "        8.400e+02],\n",
       "       [1.413e+01, 4.100e+00, 2.740e+00, ..., 6.100e-01, 1.600e+00,\n",
       "        5.600e+02]])"
      ]
     },
     "execution_count": 10,
     "metadata": {},
     "output_type": "execute_result"
    }
   ],
   "source": [
    "indep_X"
   ]
  },
  {
   "cell_type": "code",
   "execution_count": 20,
   "id": "65f567c6",
   "metadata": {},
   "outputs": [],
   "source": [
    "X_train_pca = pca(indep_X, 6)\n",
    "\n",
    "\n",
    "\n",
    "acclog=[]\n",
    "accsvml=[]\n",
    "accsvmnl=[]\n",
    "accknn=[]\n",
    "accnav=[]\n",
    "accdes=[]\n",
    "accrf=[]\n",
    "\n",
    "# split train and test with preprocessing set\n",
    "\n",
    "X_train, X_test, y_train, y_test = split_scalar(X_train_pca, dep_y)\n",
    "\n",
    "\n",
    "# call to action for each algorthim\n",
    "\n",
    "classifier,Accuracy,report,X_test,y_test,cm=logistic(X_train,y_train,X_test)\n",
    "acclog.append(Accuracy)\n",
    "\n",
    "classifier,Accuracy,report,X_test,y_test,cm=svm_linear(X_train,y_train,X_test)\n",
    "accsvml.append(Accuracy)\n",
    "\n",
    "classifier,Accuracy,report,X_test,y_test,cm=svm_NL(X_train,y_train,X_test)\n",
    "accsvmnl.append(Accuracy)\n",
    "\n",
    "classifier,Accuracy,report,X_test,y_test,cm=knn(X_train,y_train,X_test)\n",
    "accknn.append(Accuracy)\n",
    "\n",
    "classifier,Accuracy,report,X_test,y_test,cm=Navie(X_train,y_train,X_test)\n",
    "accnav.append(Accuracy)\n",
    "\n",
    "classifier,Accuracy,report,X_test,y_test,cm=Decision(X_train,y_train,X_test)\n",
    "accdes.append(Accuracy)\n",
    "\n",
    "classifier,Accuracy,report,X_test,y_test,cm=random(X_train,y_train,X_test)\n",
    "accrf.append(Accuracy)\n",
    "\n",
    "# final all the values are in dataframe.\n",
    "\n",
    "result=pca_Classification(acclog,accsvml,accsvmnl,accknn,accnav,accdes,accrf)\n",
    "#2"
   ]
  },
  {
   "cell_type": "code",
   "execution_count": 15,
   "id": "81fc490e",
   "metadata": {},
   "outputs": [
    {
     "data": {
      "text/html": [
       "<div>\n",
       "<style scoped>\n",
       "    .dataframe tbody tr th:only-of-type {\n",
       "        vertical-align: middle;\n",
       "    }\n",
       "\n",
       "    .dataframe tbody tr th {\n",
       "        vertical-align: top;\n",
       "    }\n",
       "\n",
       "    .dataframe thead th {\n",
       "        text-align: right;\n",
       "    }\n",
       "</style>\n",
       "<table border=\"1\" class=\"dataframe\">\n",
       "  <thead>\n",
       "    <tr style=\"text-align: right;\">\n",
       "      <th></th>\n",
       "      <th>Logistic</th>\n",
       "      <th>SVMl</th>\n",
       "      <th>SVMnl</th>\n",
       "      <th>KNN</th>\n",
       "      <th>Navie</th>\n",
       "      <th>Decision</th>\n",
       "      <th>Random</th>\n",
       "    </tr>\n",
       "  </thead>\n",
       "  <tbody>\n",
       "    <tr>\n",
       "      <th>PCA</th>\n",
       "      <td>0.888889</td>\n",
       "      <td>0.888889</td>\n",
       "      <td>0.888889</td>\n",
       "      <td>0.805556</td>\n",
       "      <td>0.861111</td>\n",
       "      <td>0.861111</td>\n",
       "      <td>0.861111</td>\n",
       "    </tr>\n",
       "  </tbody>\n",
       "</table>\n",
       "</div>"
      ],
      "text/plain": [
       "     Logistic      SVMl     SVMnl       KNN     Navie  Decision    Random\n",
       "PCA  0.888889  0.888889  0.888889  0.805556  0.861111  0.861111  0.861111"
      ]
     },
     "execution_count": 15,
     "metadata": {},
     "output_type": "execute_result"
    }
   ],
   "source": [
    "result\n",
    "#3"
   ]
  },
  {
   "cell_type": "code",
   "execution_count": 17,
   "id": "d342b0a6",
   "metadata": {},
   "outputs": [
    {
     "data": {
      "text/html": [
       "<div>\n",
       "<style scoped>\n",
       "    .dataframe tbody tr th:only-of-type {\n",
       "        vertical-align: middle;\n",
       "    }\n",
       "\n",
       "    .dataframe tbody tr th {\n",
       "        vertical-align: top;\n",
       "    }\n",
       "\n",
       "    .dataframe thead th {\n",
       "        text-align: right;\n",
       "    }\n",
       "</style>\n",
       "<table border=\"1\" class=\"dataframe\">\n",
       "  <thead>\n",
       "    <tr style=\"text-align: right;\">\n",
       "      <th></th>\n",
       "      <th>Logistic</th>\n",
       "      <th>SVMl</th>\n",
       "      <th>SVMnl</th>\n",
       "      <th>KNN</th>\n",
       "      <th>Navie</th>\n",
       "      <th>Decision</th>\n",
       "      <th>Random</th>\n",
       "    </tr>\n",
       "  </thead>\n",
       "  <tbody>\n",
       "    <tr>\n",
       "      <th>PCA</th>\n",
       "      <td>0.916667</td>\n",
       "      <td>0.916667</td>\n",
       "      <td>0.944444</td>\n",
       "      <td>0.916667</td>\n",
       "      <td>0.944444</td>\n",
       "      <td>0.916667</td>\n",
       "      <td>0.972222</td>\n",
       "    </tr>\n",
       "  </tbody>\n",
       "</table>\n",
       "</div>"
      ],
      "text/plain": [
       "     Logistic      SVMl     SVMnl       KNN     Navie  Decision    Random\n",
       "PCA  0.916667  0.916667  0.944444  0.916667  0.944444  0.916667  0.972222"
      ]
     },
     "execution_count": 17,
     "metadata": {},
     "output_type": "execute_result"
    }
   ],
   "source": [
    "result\n",
    "#4"
   ]
  },
  {
   "cell_type": "code",
   "execution_count": 19,
   "id": "677e72fc",
   "metadata": {},
   "outputs": [
    {
     "data": {
      "text/html": [
       "<div>\n",
       "<style scoped>\n",
       "    .dataframe tbody tr th:only-of-type {\n",
       "        vertical-align: middle;\n",
       "    }\n",
       "\n",
       "    .dataframe tbody tr th {\n",
       "        vertical-align: top;\n",
       "    }\n",
       "\n",
       "    .dataframe thead th {\n",
       "        text-align: right;\n",
       "    }\n",
       "</style>\n",
       "<table border=\"1\" class=\"dataframe\">\n",
       "  <thead>\n",
       "    <tr style=\"text-align: right;\">\n",
       "      <th></th>\n",
       "      <th>Logistic</th>\n",
       "      <th>SVMl</th>\n",
       "      <th>SVMnl</th>\n",
       "      <th>KNN</th>\n",
       "      <th>Navie</th>\n",
       "      <th>Decision</th>\n",
       "      <th>Random</th>\n",
       "    </tr>\n",
       "  </thead>\n",
       "  <tbody>\n",
       "    <tr>\n",
       "      <th>PCA</th>\n",
       "      <td>0.944444</td>\n",
       "      <td>0.944444</td>\n",
       "      <td>1.0</td>\n",
       "      <td>0.972222</td>\n",
       "      <td>0.972222</td>\n",
       "      <td>0.944444</td>\n",
       "      <td>0.916667</td>\n",
       "    </tr>\n",
       "  </tbody>\n",
       "</table>\n",
       "</div>"
      ],
      "text/plain": [
       "     Logistic      SVMl SVMnl       KNN     Navie  Decision    Random\n",
       "PCA  0.944444  0.944444   1.0  0.972222  0.972222  0.944444  0.916667"
      ]
     },
     "execution_count": 19,
     "metadata": {},
     "output_type": "execute_result"
    }
   ],
   "source": [
    "result\n",
    "#5"
   ]
  },
  {
   "cell_type": "code",
   "execution_count": 21,
   "id": "9a260db9",
   "metadata": {},
   "outputs": [
    {
     "data": {
      "text/html": [
       "<div>\n",
       "<style scoped>\n",
       "    .dataframe tbody tr th:only-of-type {\n",
       "        vertical-align: middle;\n",
       "    }\n",
       "\n",
       "    .dataframe tbody tr th {\n",
       "        vertical-align: top;\n",
       "    }\n",
       "\n",
       "    .dataframe thead th {\n",
       "        text-align: right;\n",
       "    }\n",
       "</style>\n",
       "<table border=\"1\" class=\"dataframe\">\n",
       "  <thead>\n",
       "    <tr style=\"text-align: right;\">\n",
       "      <th></th>\n",
       "      <th>Logistic</th>\n",
       "      <th>SVMl</th>\n",
       "      <th>SVMnl</th>\n",
       "      <th>KNN</th>\n",
       "      <th>Navie</th>\n",
       "      <th>Decision</th>\n",
       "      <th>Random</th>\n",
       "    </tr>\n",
       "  </thead>\n",
       "  <tbody>\n",
       "    <tr>\n",
       "      <th>PCA</th>\n",
       "      <td>0.944444</td>\n",
       "      <td>0.944444</td>\n",
       "      <td>1.0</td>\n",
       "      <td>0.944444</td>\n",
       "      <td>0.972222</td>\n",
       "      <td>0.916667</td>\n",
       "      <td>0.916667</td>\n",
       "    </tr>\n",
       "  </tbody>\n",
       "</table>\n",
       "</div>"
      ],
      "text/plain": [
       "     Logistic      SVMl SVMnl       KNN     Navie  Decision    Random\n",
       "PCA  0.944444  0.944444   1.0  0.944444  0.972222  0.916667  0.916667"
      ]
     },
     "execution_count": 21,
     "metadata": {},
     "output_type": "execute_result"
    }
   ],
   "source": [
    "result\n",
    "#6"
   ]
  },
  {
   "cell_type": "code",
   "execution_count": null,
   "id": "5e04affc",
   "metadata": {},
   "outputs": [],
   "source": []
  }
 ],
 "metadata": {
  "kernelspec": {
   "display_name": "Python 3 (ipykernel)",
   "language": "python",
   "name": "python3"
  },
  "language_info": {
   "codemirror_mode": {
    "name": "ipython",
    "version": 3
   },
   "file_extension": ".py",
   "mimetype": "text/x-python",
   "name": "python",
   "nbconvert_exporter": "python",
   "pygments_lexer": "ipython3",
   "version": "3.7.6"
  }
 },
 "nbformat": 4,
 "nbformat_minor": 5
}
